{
  "nbformat": 4,
  "nbformat_minor": 0,
  "metadata": {
    "colab": {
      "provenance": []
    },
    "kernelspec": {
      "name": "python3",
      "display_name": "Python 3"
    },
    "language_info": {
      "name": "python"
    }
  },
  "cells": [
    {
      "cell_type": "code",
      "execution_count": 2,
      "metadata": {
        "id": "PnN_Ij-JTKP0",
        "colab": {
          "base_uri": "https://localhost:8080/"
        },
        "outputId": "130528a0-35a7-46c4-d2a4-2bb6bf11f0b7"
      },
      "outputs": [
        {
          "output_type": "stream",
          "name": "stdout",
          "text": [
            "📊 Accuracy without PCA:\n",
            "SVM: 0.8641\n",
            "Logistic Regression: 0.8478\n",
            "Random Forest: 0.8641\n",
            "\n",
            "📉 Accuracy after PCA:\n",
            "SVM: 0.8750\n",
            "Logistic Regression: 0.8424\n",
            "Random Forest: 0.8641\n",
            "\n",
            "🔢 Number of PCA components used: 10\n"
          ]
        }
      ],
      "source": [
        "\n",
        "import pandas as pd\n",
        "from sklearn.preprocessing import LabelEncoder, StandardScaler\n",
        "from sklearn.model_selection import train_test_split\n",
        "from sklearn.metrics import accuracy_score\n",
        "from sklearn.decomposition import PCA\n",
        "\n",
        "\n",
        "from sklearn.svm import SVC\n",
        "from sklearn.linear_model import LogisticRegression\n",
        "from sklearn.ensemble import RandomForestClassifier\n",
        "\n",
        "\n",
        "df = pd.read_csv('/content/heart.csv')\n",
        "\n",
        "cat_cols = df.select_dtypes(include=['object']).columns\n",
        "\n",
        "label_encoder = LabelEncoder()\n",
        "for col in cat_cols:\n",
        "    df[col] = label_encoder.fit_transform(df[col])\n",
        "\n",
        "\n",
        "X = df.drop('HeartDisease', axis=1)\n",
        "y = df['HeartDisease']\n",
        "\n",
        "scaler = StandardScaler()\n",
        "X_scaled = scaler.fit_transform(X)\n",
        "\n",
        "\n",
        "X_train, X_test, y_train, y_test = train_test_split(X_scaled, y, test_size=0.2, random_state=42)\n",
        "\n",
        "\n",
        "models = {\n",
        "    \"SVM\": SVC(),\n",
        "    \"Logistic Regression\": LogisticRegression(max_iter=1000),\n",
        "    \"Random Forest\": RandomForestClassifier()\n",
        "}\n",
        "\n",
        "print(\"📊 Accuracy without PCA:\")\n",
        "for name, model in models.items():\n",
        "    model.fit(X_train, y_train)\n",
        "    preds = model.predict(X_test)\n",
        "    acc = accuracy_score(y_test, preds)\n",
        "    print(f\"{name}: {acc:.4f}\")\n",
        "\n",
        "\n",
        "pca = PCA(n_components=0.95)\n",
        "X_pca = pca.fit_transform(X_scaled)\n",
        "\n",
        "X_train_pca, X_test_pca, y_train_pca, y_test_pca = train_test_split(X_pca, y, test_size=0.2, random_state=42)\n",
        "\n",
        "print(\"\\n📉 Accuracy after PCA:\")\n",
        "for name, model in models.items():\n",
        "    model.fit(X_train_pca, y_train_pca)\n",
        "    preds = model.predict(X_test_pca)\n",
        "    acc = accuracy_score(y_test_pca, preds)\n",
        "    print(f\"{name}: {acc:.4f}\")\n",
        "\n",
        "\n",
        "print(f\"\\n🔢 Number of PCA components used: {pca.n_components_}\")\n"
      ]
    },
    {
      "cell_type": "code",
      "source": [],
      "metadata": {
        "id": "6DK-5zj151cj"
      },
      "execution_count": null,
      "outputs": []
    }
  ]
}